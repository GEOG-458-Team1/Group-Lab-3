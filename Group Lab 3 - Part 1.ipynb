{
 "cells": [
  {
   "cell_type": "markdown",
   "metadata": {},
   "source": [
    "# Group Lab 3 - Comparative Urban Change in US States\n",
    "\n",
    "Aldrin Carbonell, Johnny Nguyen, Samuel Perng, Andy Tseng, Justin Choi\n",
    "\n",
    "February 25, 2019"
   ]
  },
  {
   "cell_type": "markdown",
   "metadata": {},
   "source": [
    "## Part 1 - Data Description & Overview\n",
    "\n",
    "The following data includes a geographic shapefile with respective estimates data, provided by the Washington State’s Office of Financial Management. The census data is measured at the block level from 2010, as part of the Office of Financial Management’s *Small area estimates program*. Using the census block data, estimates for population and housing are made throughout Washington State. After processing the estimates data and shapefile, the data will be categorized into “urban” and “rural”.\n",
    "\n",
    "According to the [Wikipedia page](https://en.wikipedia.org/wiki/Urban_area), the U.S. Census Bureau defines an urban area as:\n",
    "\n",
    "> Census blocks that have a population density of at least 1,000 people per square mile.\n",
    "\n",
    "> Respective surrounding census blocks that have an overall density of at least 500 people per square mile. \n",
    "\n",
    "As for rural areas, the U.S. Census Bureau’s definition is:\n",
    "\n",
    "> Open country and settlements with less than 2,500 residents, or a max population density of 999 people per square mile.\n",
    "\n",
    "\n",
    "Sources:\n",
    "\n",
    "https://en.wikipedia.org/wiki/Urban_area\n",
    "\n",
    "https://en.wikipedia.org/wiki/Rural_area\n"
   ]
  },
  {
   "cell_type": "code",
   "execution_count": null,
   "metadata": {},
   "outputs": [],
   "source": []
  }
 ],
 "metadata": {
  "kernelspec": {
   "display_name": "Python 2",
   "language": "python",
   "name": "python2"
  },
  "language_info": {
   "codemirror_mode": {
    "name": "ipython",
    "version": 2
   },
   "file_extension": ".py",
   "mimetype": "text/x-python",
   "name": "python",
   "nbconvert_exporter": "python",
   "pygments_lexer": "ipython2",
   "version": "2.7.15"
  }
 },
 "nbformat": 4,
 "nbformat_minor": 2
}
