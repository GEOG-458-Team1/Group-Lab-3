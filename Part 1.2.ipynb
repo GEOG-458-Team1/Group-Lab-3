{
 "cells": [
  {
   "cell_type": "markdown",
   "metadata": {},
   "source": [
    "However, the U.S. Census Bureau's definition of urban is not universal. According to the UK Census, the United Kingdom uses the term \"built-up area\" instead of the term \"urban area\".\n",
    "According to the [Office of National Statistics](https://en.wikipedia.org/wiki/Office_for_National_Statistics), the term \"built-up area\" means:\n",
    "> areas with built-up land with a minimum area of 20 hectares (200,000m<sup>2</sup>), while settlements within 200 meters of each other are linked. Built-up area sub-divisions are also identified to provide greater detail in the data, especially in the large conurbanations. "
   ]
  },
  {
   "cell_type": "markdown",
   "metadata": {},
   "source": [
    "Another difference in the definition of urban can also be seen in the Philippines. The cities in the Philippines are governed by the [Local Government Code of 1991](https://www.lawphil.net/statutes/repacts/ra1991/ra_7160_1991.html) and the [municipal charter](https://en.wikipedia.org/wiki/Municipal_charter) which states that highly urbanized cities are:\n",
    "> local government units autonomous from provinces that have a minimum population of 200,000 and an annual income of at least 50 million."
   ]
  },
  {
   "cell_type": "markdown",
   "metadata": {},
   "source": [
    "Lastly, according to the [Canada 2011 Census](https://en.wikipedia.org/wiki/2011_Canadian_Census), the term \"urban areas\" was changed to \"population centre\". This is due to the belief that there isn't a strict division between the definition of urban and rural but instead there are multiple settlement patterns that exist. Although there is a change in terminology, the definition of population centre remains the same as:\n",
    ">A population of at least 1,000 people where the density is no fewer than 400 persons per km<sup>2</sup>\n",
    "\n",
    "A population centre is then further classified into three categories:\n",
    "> small (population 1,000 to 29,999), medium (population 30,000 to 99,999) and large (population 100,000 or greater)"
   ]
  },
  {
   "cell_type": "markdown",
   "metadata": {},
   "source": [
    "While many different places use different terms to represent \"urban\", the definition of most of them have to do with population. This can be seen in the U.S, Canada, as well as the Philippines. However, according to the UK Census, the term \"built-up area\" seems to focus on the area of land instead of the population, which presents an interesting comparison in the view of the term \"urban area\""
   ]
  },
  {
   "cell_type": "markdown",
   "metadata": {},
   "source": [
    "Sources:\n",
    "\n",
    "https://en.wikipedia.org/wiki/List_of_urban_areas_in_the_United_Kingdom\n",
    "\n",
    "https://en.wikipedia.org/wiki/List_of_cities_in_the_Philippines\n",
    "\n",
    "https://en.wikipedia.org/wiki/Urban_area#Canada"
   ]
  },
  {
   "cell_type": "code",
   "execution_count": null,
   "metadata": {},
   "outputs": [],
   "source": []
  }
 ],
 "metadata": {
  "kernelspec": {
   "display_name": "Python 2",
   "language": "python",
   "name": "python2"
  },
  "language_info": {
   "codemirror_mode": {
    "name": "ipython",
    "version": 2
   },
   "file_extension": ".py",
   "mimetype": "text/x-python",
   "name": "python",
   "nbconvert_exporter": "python",
   "pygments_lexer": "ipython2",
   "version": "2.7.15"
  }
 },
 "nbformat": 4,
 "nbformat_minor": 2
}
